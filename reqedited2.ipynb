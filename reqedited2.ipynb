{
  "nbformat": 4,
  "nbformat_minor": 0,
  "metadata": {
    "colab": {
      "name": "reqedited2.ipynb",
      "provenance": [],
      "collapsed_sections": [],
      "mount_file_id": "1gnEUCiLtes-_8U8Xd5VAYKkUNEx_3tFm",
      "authorship_tag": "ABX9TyOdAzamjSPvC1ZxRG/R4koe",
      "include_colab_link": true
    },
    "kernelspec": {
      "name": "python3",
      "display_name": "Python 3"
    },
    "language_info": {
      "name": "python"
    }
  },
  "cells": [
    {
      "cell_type": "markdown",
      "metadata": {
        "id": "view-in-github",
        "colab_type": "text"
      },
      "source": [
        "<a href=\"https://colab.research.google.com/github/willyvonka1997/learninggit/blob/main/reqedited2.ipynb\" target=\"_parent\"><img src=\"https://colab.research.google.com/assets/colab-badge.svg\" alt=\"Open In Colab\"/></a>"
      ]
    },
    {
      "cell_type": "code",
      "metadata": {
        "id": "kfhzanxilD8r"
      },
      "source": [
        "from bs4 import BeautifulSoup\n",
        "import requests\n",
        "from PIL import Image\n",
        "from io import BytesIO\n",
        "import os\n",
        "from zipfile import ZipFile\n",
        "from os.path import basename\n",
        "from google.colab import files"
      ],
      "execution_count": null,
      "outputs": []
    },
    {
      "cell_type": "code",
      "metadata": {
        "id": "v-DEhv-wkCOs"
      },
      "source": [
        "print(\"Tips: emma+mae\")\n",
        "search = input(\"search for pstart  : \")\n",
        "# search = \"emma+mae\"\n",
        "params = {\"q\":search}\n",
        "r = requests.get(\"https://www.pornpics.com/\" , params=params)\n",
        "\n",
        "soup = BeautifulSoup(r.text , \"html.parser\")\n",
        "\n",
        "# links = soup.findAll(\"li\", {\"class\":\"thumbwook\"})\n",
        "links = soup.findAll(\"a\", {\"class\":\"rel-link\"})\n",
        "print(\"number of found images is: \" , len(links))\n",
        "string = \" \"\n",
        "print(r.url)"
      ],
      "execution_count": null,
      "outputs": []
    },
    {
      "cell_type": "code",
      "metadata": {
        "id": "CAz7mJGBsKVq"
      },
      "source": [
        "string1 = 1\n",
        "string2 = 0\n",
        "try:\n",
        "  try:\n",
        "    dir = str(search)\n",
        "    parent_dir = \"./\"\n",
        "    path = os.path.join(parent_dir, dir)\n",
        "    os.mkdir(path)\n",
        "    print(\"Directory '% s' created\" % dir)\n",
        "  except IOError:\n",
        "    print(\"folder exist ...\")\n",
        "    pass\n",
        "  for link in links:\n",
        "    print(f\"folder {string1} opened.\")\n",
        "    print(f\"start grabbing folder {string1}.\")\n",
        "    string1 +=1\n",
        "    r = requests.get(link.attrs[\"href\"])\n",
        "    soup = BeautifulSoup(r.text , \"html.parser\")\n",
        "    links2 = soup.findAll(\"a\", {\"class\":\"rel-link\"})\n",
        "    for link2 in links2:\n",
        "      string+=\"-\"\n",
        "      r2 = requests.get(link2.attrs[\"href\"],stream = True)\n",
        "      filename =r2.url.split(\"/\")[-1]\n",
        "      img = Image.open(BytesIO(r2.content))\n",
        "      img.save(path +\"/\" + filename , img.format)\n",
        "    print(f\"folder {string1} closeed.\")\n",
        "    print(\" \")\n",
        "except IOError:\n",
        "  print(IOError)\n",
        "  pass"
      ],
      "execution_count": null,
      "outputs": []
    },
    {
      "cell_type": "code",
      "metadata": {
        "id": "17i9e4KW3PLb"
      },
      "source": [
        "# create a ZipFile object\n",
        "with ZipFile(search +'.zip', 'w') as zipObj:\n",
        "   # Iterate over all the files in directory\n",
        "   for folderName, subfolders, filenames in os.walk('/content/'+search):\n",
        "       for filename in filenames:\n",
        "           #create complete filepath of file in directory\n",
        "           filePath = os.path.join(folderName, filename)\n",
        "           # Add file to zip\n",
        "           zipObj.write(filePath, basename(filePath))"
      ],
      "execution_count": null,
      "outputs": []
    }
  ]
}